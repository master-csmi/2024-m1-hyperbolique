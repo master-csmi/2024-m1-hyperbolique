{
 "cells": [
  {
   "cell_type": "code",
   "execution_count": 1,
   "metadata": {},
   "outputs": [],
   "source": [
    "import numpy as np\n",
    "import matplotlib.pyplot as plt"
   ]
  },
  {
   "cell_type": "code",
   "execution_count": 4,
   "metadata": {},
   "outputs": [],
   "source": [
    "def grid_dirichlet1D(a, b, Nx):\n",
    "    return np.linspace(a, b, Nx)"
   ]
  },
  {
   "cell_type": "code",
   "execution_count": 25,
   "metadata": {},
   "outputs": [],
   "source": [
    "def grid_offset(a, b, Nx):\n",
    "    dx = (b-a)/Nx\n",
    "    x = [a]\n",
    "    for j in range(1, Nx):\n",
    "        x.append((j-0.5)*dx)\n",
    "    return np.array(x)"
   ]
  },
  {
   "cell_type": "code",
   "execution_count": 6,
   "metadata": {},
   "outputs": [],
   "source": [
    "def init_bell(d0, x): #To make a kind of bell curve -> continuous ditribution centered in d0\n",
    "    ret = []\n",
    "    for i in range(x.size):\n",
    "        if x[i] > d0-0.2 and x[i] < d0+0.2:\n",
    "            ret.append(np.exp(-2/(1-(np.sin(2*np.pi*(x[i]-d0))**2))))\n",
    "        else:\n",
    "            ret.append(0)\n",
    "    return np.array(ret)"
   ]
  },
  {
   "cell_type": "code",
   "execution_count": 7,
   "metadata": {},
   "outputs": [
    {
     "data": {
      "text/plain": [
       "[<matplotlib.lines.Line2D at 0x11af6c7c0>]"
      ]
     },
     "execution_count": 7,
     "metadata": {},
     "output_type": "execute_result"
    },
    {
     "data": {
      "image/png": "[encoded data removed]",
      "text/plain": [
       "<Figure size 432x288 with 1 Axes>"
      ]
     },
     "metadata": {
      "needs_background": "light"
     },
     "output_type": "display_data"
    }
   ],
   "source": [
    "x = np.linspace(0,1,100)\n",
    "plt.plot(x, init_bell(0.2, x))"
   ]
  },
  {
   "cell_type": "code",
   "execution_count": 8,
   "metadata": {},
   "outputs": [],
   "source": [
    "def init_jump(d0, x): #To make a piecewise-constant function with a discontinuity in d0 (1 before, 0 after)\n",
    "    u = np.zeros_like(x, dtype=float)\n",
    "    for i in range(u.shape[0]):\n",
    "       if (x[i]<d0):\n",
    "           u[i] = 1\n",
    "    return u"
   ]
  },
  {
   "cell_type": "code",
   "execution_count": 9,
   "metadata": {},
   "outputs": [],
   "source": [
    "def exact(init, params, x, tf):\n",
    "    tf = np.ones_like(x)*tf\n",
    "    x0 = x-tf\n",
    "    u0 = init(params, x0)\n",
    "\n",
    "    return u0"
   ]
  },
  {
   "cell_type": "code",
   "execution_count": 10,
   "metadata": {},
   "outputs": [
    {
     "data": {
      "text/plain": [
       "[<matplotlib.lines.Line2D at 0x11b075d00>]"
      ]
     },
     "execution_count": 10,
     "metadata": {},
     "output_type": "execute_result"
    },
    {
     "data": {
      "image/png": "[encoded data removed]",
      "text/plain": [
       "<Figure size 432x288 with 1 Axes>"
      ]
     },
     "metadata": {
      "needs_background": "light"
     },
     "output_type": "display_data"
    }
   ],
   "source": [
    "a, b = 0, 1 #Domain in [0,1]\n",
    "Nx = 500\n",
    "\n",
    "dx = (b-a)/Nx\n",
    "x = grid_dirichlet1D(a, b, Nx)\n",
    "u0 = init_jump(0.4, x)\n",
    "ue = exact(init_jump, 0.4, x, 0.5)\n",
    "\n",
    "plt.plot(x, u0)\n",
    "plt.plot(x, ue) #Exact solution"
   ]
  },
  {
   "cell_type": "code",
   "execution_count": 21,
   "metadata": {},
   "outputs": [],
   "source": [
    "#Here is a function to compute a step of a simple scheme like upwind, downwind, centered,...\n",
    "def matmul_step(u_n, Beta, A):\n",
    "    return u_n - Beta*np.dot(A, u_n)"
   ]
  },
  {
   "cell_type": "code",
   "execution_count": 22,
   "metadata": {},
   "outputs": [],
   "source": [
    "def T(Nx):  #Matrix for Upwind Scheme\n",
    "    return np.eye(Nx) + np.diag(-1 * np.ones(Nx-1), -1)"
   ]
  },
  {
   "cell_type": "code",
   "execution_count": 31,
   "metadata": {},
   "outputs": [
    {
     "name": "stdout",
     "output_type": "stream",
     "text": [
      "0.039902308994073536\n",
      "0.03358060022960767\n",
      "0.027554516751479248\n",
      "0.02191250903027931\n",
      "0.016741654509962928\n",
      "0.012124165005331249\n",
      "0.00813300631097294\n",
      "0.004826621264564082\n",
      "0.002242864617523231\n",
      "0.00039231681893409087\n",
      "-0.0007476080044427139\n",
      "-0.001244758903414571\n",
      "-0.0011665715370483241\n",
      "-0.0009392894478352544\n",
      "0.001015115754401042\n",
      "-0.005013813467364642\n",
      "0.014916077223830954\n",
      "0.13449358634795341\n",
      "-2.9206693819730845\n",
      "36.28011111436739\n",
      "-368.2368676997934\n",
      "3272.699664236347\n",
      "-25636.54840755076\n",
      "170449.84770815092\n",
      "-826447.3840025642\n",
      "329805.7066434424\n",
      "60894433.88263246\n",
      "-1071195294.4446535\n",
      "13589874634.711346\n",
      "-149993676518.1141\n",
      "1531548588594.6729\n",
      "-14906667085534.41\n",
      "140688734916053.84\n",
      "-1300225085307785.0\n",
      "1.1820582077203976e+16\n",
      "-1.0578317687096304e+17\n",
      "9.300772794015948e+17\n",
      "-8.007676207083809e+18\n",
      "6.725903376339541e+19\n",
      "-5.491906508137025e+20\n",
      "4.347112514316693e+21\n",
      "-3.33035768467673e+22\n",
      "2.4708006866526506e+23\n",
      "-1.7834242814576394e+24\n",
      "1.2678307416200697e+25\n",
      "-9.099559021545589e+25\n",
      "6.857257214136374e+26\n",
      "-5.655246091315208e+27\n",
      "5.185037204431311e+28\n",
      "-5.160732421026665e+29\n",
      "5.342648162732771e+30\n",
      "-5.549353880287172e+31\n",
      "5.659756422977057e+32\n",
      "-5.607835075479485e+33\n",
      "5.372844948155925e+34\n",
      "-4.967514574282256e+35\n",
      "4.4262081754747655e+36\n",
      "-3.7943901645193753e+37\n",
      "3.120140583142303e+38\n",
      "-2.447990387942645e+39\n",
      "1.814998046730554e+40\n",
      "-1.248769868302963e+41\n",
      "7.670166575837465e+41\n",
      "-3.7821279209281057e+42\n",
      "8.295392379231624e+42\n",
      "1.243277112043685e+44\n",
      "-2.5355507044478698e+45\n",
      "3.172935933435262e+46\n",
      "-3.292545103108583e+47\n",
      "3.0307906848891724e+48\n",
      "-2.5142605150074385e+49\n",
      "1.8535446323705988e+50\n",
      "-1.1397282287001881e+51\n",
      "4.4314129009071314e+51\n",
      "1.8610602863841768e+52\n",
      "-7.162868154148404e+53\n",
      "1.1313810429125369e+55\n",
      "-1.4279706643184322e+56\n",
      "1.6120486678891003e+57\n",
      "-1.696005684229305e+58\n",
      "1.6959765117026927e+59\n",
      "-1.6296523623952906e+60\n",
      "1.5145982503075255e+61\n",
      "-1.3670623552877745e+62\n",
      "1.2012269452322737e+63\n",
      "-1.0288281593420346e+64\n",
      "8.590627811790315e+64\n",
      "-6.987012511581882e+65\n",
      "5.523344030410156e+66\n",
      "-4.226937008125645e+67\n",
      "3.109985180084466e+68\n",
      "-2.1729731899762736e+69\n",
      "1.4078124786088616e+70\n",
      "-8.00580080172804e+70\n",
      "3.338091391112652e+71\n",
      "1.167171329098471e+71\n",
      "-2.55322448448062e+73\n",
      "4.158543982800483e+74\n",
      "-5.105190987034157e+75\n",
      "5.546688704258703e+76\n",
      "-5.615366137743931e+77\n",
      "5.42186106712133e+78\n",
      "-5.055889375679307e+79\n",
      "4.587895550323418e+80\n",
      "-4.071255037407644e+81\n",
      "3.544755680020077e+82\n",
      "-3.035141264824403e+83\n",
      "2.5595537286760733e+84\n",
      "-2.1277601408368264e+85\n",
      "1.7440945129616472e+86\n",
      "-1.40908124822661e+87\n",
      "1.1207351269630005e+88\n",
      "-8.7555022524322e+88\n",
      "6.691936143446929e+89\n",
      "-4.969019470436161e+90\n",
      "3.535257105203235e+91\n",
      "-2.3305003914890226e+92\n",
      "1.2719579818957378e+93\n",
      "-2.229532556185549e+93\n",
      "-1.0706687264398763e+95\n",
      "3.1030693885320325e+96\n",
      "-6.834231564159778e+97\n",
      "1.4089407762508665e+99\n",
      "-2.8238397447253188e+100\n",
      "5.530716104851154e+101\n",
      "-1.057297151780542e+103\n",
      "1.9700847398266444e+104\n",
      "-3.5760789503401493e+105\n",
      "6.324466084984632e+106\n",
      "-1.0903599785201822e+108\n",
      "1.8338580775262883e+109\n",
      "-3.011382796320485e+110\n",
      "4.832055295754599e+111\n",
      "-7.582592716136633e+112\n",
      "1.1645666018975384e+114\n",
      "-1.7518491848871608e+115\n",
      "2.5829943217413965e+116\n",
      "-3.735398868403856e+117\n",
      "5.301690418770499e+118\n",
      "-7.389552848373904e+119\n",
      "1.0120392930835926e+121\n",
      "-1.3626627081285096e+122\n",
      "1.8047444904786564e+123\n",
      "-2.3523017417132157e+124\n",
      "3.018725602912816e+125\n",
      "-3.815938242501052e+126\n",
      "4.753472427803951e+127\n",
      "-5.83752900137482e+128\n",
      "7.070078001964935e+129\n",
      "-8.448074635321123e+130\n",
      "9.96286069352156e+131\n",
      "-1.1599814828657053e+133\n",
      "1.3338301500802316e+134\n",
      "-1.515194935798883e+135\n",
      "1.7009266827724815e+136\n",
      "-1.8874577845750043e+137\n",
      "2.0709236211347055e+138\n",
      "-2.2473055326917676e+139\n",
      "2.4125873077875864e+140\n",
      "-2.5629160880202644e+141\n",
      "2.694758237086093e+142\n",
      "-2.805041102776763e+143\n",
      "2.8912726660086447e+144\n",
      "-2.951632706464257e+145\n",
      "2.9850311589144365e+146\n",
      "-2.9911315988570904e+147\n",
      "2.970340084701181e+148\n",
      "-2.923761712764398e+149\n",
      "2.8531290562182172e+150\n",
      "-2.760708045977593e+151\n",
      "2.6491877437792935e+152\n",
      "-2.521560836875769e+153\n",
      "2.3810015756943448e+154\n",
      "-2.23074734280431e+155\n",
      "2.0739891722542924e+156\n",
      "-1.9137754365095887e+157\n",
      "1.752931691592446e+158\n",
      "-1.593998421683049e+159\n",
      "1.4391872410994477e+160\n",
      "-1.2903550644014288e+161\n",
      "1.1489948932719268e+162\n",
      "-1.0162412191435987e+163\n",
      "8.928876105789314e+163\n",
      "-7.794138345120306e+164\n",
      "6.760198278463835e+165\n",
      "-5.826639589267965e+166\n",
      "4.991032606657509e+167\n",
      "-4.249336411299251e+168\n",
      "3.596284476319149e+169\n",
      "-3.025741454106228e+170\n",
      "2.5310224594647257e+171\n",
      "-2.105169631705067e+172\n",
      "1.7411837484861682e+173\n",
      "-1.432211135927458e+174\n",
      "1.1716880460282965e+175\n",
      "-9.534460672788779e+175\n",
      "7.717830408197756e+176\n",
      "-6.215044356371417e+177\n",
      "4.979402658229047e+178\n",
      "-3.969424878458003e+179\n"
     ]
    },
    {
     "data": {
      "text/plain": [
       "[<matplotlib.lines.Line2D at 0x1295213a0>]"
      ]
     },
     "execution_count": 31,
     "metadata": {},
     "output_type": "execute_result"
    },
    {
     "data": {
      "image/png": "[encoded data removed]",
      "text/plain": [
       "<Figure size 432x288 with 1 Axes>"
      ]
     },
     "metadata": {
      "needs_background": "light"
     },
     "output_type": "display_data"
    }
   ],
   "source": [
    "#Finite Differences:\n",
    "\n",
    "a, b = 0, 1\n",
    "Nx = 1000\n",
    "dx = (b-a)/Nx\n",
    "dt = 5*dx #CFL condition = 5\n",
    "Beta = dt/dx\n",
    "x = grid_offset(a, b, Nx)\n",
    "u_n = init_bell(0.2, x)\n",
    "t=0\n",
    "A = T(Nx)\n",
    "I = np.eye(Nx)\n",
    "\n",
    "tf = 1\n",
    "while t < tf:\n",
    "    u_n = matmul_step(u_n, Beta, A)\n",
    "    t += dt\n",
    "\n",
    "plt.plot(x, u_n)"
   ]
  },
  {
   "cell_type": "code",
   "execution_count": null,
   "metadata": {},
   "outputs": [],
   "source": []
  },
  {
   "cell_type": "code",
   "execution_count": null,
   "metadata": {},
   "outputs": [],
   "source": [
    "def h(u_i0, u_i1, dx):\n",
    "    return (u_i1 - u_i0)/dx"
   ]
  },
  {
   "cell_type": "code",
   "execution_count": null,
   "metadata": {},
   "outputs": [],
   "source": [
    "\"\"\"def ThetaScheme(theta, u0, grid_t, grid_x):\n",
    "    Nt = grid_t.size\n",
    "    dt = (grid_t[-1]-grid_t[0])/Nt\n",
    "    Nx = grid_x.size\n",
    "    dx = (grid_x[-1]-grid_x[0])/Nx\n",
    "\n",
    "    \"\"\""
   ]
  },
  {
   "cell_type": "code",
   "execution_count": null,
   "metadata": {},
   "outputs": [],
   "source": []
  },
  {
   "cell_type": "code",
   "execution_count": 13,
   "metadata": {},
   "outputs": [],
   "source": [
    "def F(uL, uR, a):\n",
    "    return a * (uL + uR / 2) + np.abs(a) * (uR - uL) / 2"
   ]
  },
  {
   "cell_type": "code",
   "execution_count": null,
   "metadata": {},
   "outputs": [],
   "source": []
  }
 ],
 "metadata": {
  "kernelspec": {
   "display_name": "Python 3",
   "language": "python",
   "name": "python3"
  },
  "language_info": {
   "codemirror_mode": {
    "name": "ipython",
    "version": 3
   },
   "file_extension": ".py",
   "mimetype": "text/x-python",
   "name": "python",
   "nbconvert_exporter": "python",
   "pygments_lexer": "ipython3",
   "version": "3.9.18"
  }
 },
 "nbformat": 4,
 "nbformat_minor": 2
}
