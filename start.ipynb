{
 "cells": [
  {
   "cell_type": "code",
   "execution_count": 1,
   "metadata": {},
   "outputs": [],
   "source": [
    "import numpy as np\n",
    "import matplotlib.pyplot as plt"
   ]
  },
  {
   "cell_type": "code",
   "execution_count": 4,
   "metadata": {},
   "outputs": [],
   "source": [
    "def grid_dirichlet1D(a, b, Nx):\n",
    "    return np.linspace(a, b, Nx)"
   ]
  },
  {
   "cell_type": "code",
   "execution_count": 25,
   "metadata": {},
   "outputs": [],
   "source": [
    "def grid_offset(a, b, Nx):\n",
    "    dx = (b-a)/Nx\n",
    "    x = [a]\n",
    "    for j in range(1, Nx):\n",
    "        x.append((j-0.5)*dx)\n",
    "    return np.array(x)"
   ]
  },
  {
   "cell_type": "code",
   "execution_count": 6,
   "metadata": {},
   "outputs": [],
   "source": [
    "def init_bell(d0, x): #To make a kind of bell curve -> continuous ditribution centered in d0\n",
    "    ret = []\n",
    "    for i in range(x.size):\n",
    "        if x[i] > d0-0.2 and x[i] < d0+0.2:\n",
    "            ret.append(np.exp(-2/(1-(np.sin(2*np.pi*(x[i]-d0))**2))))\n",
    "        else:\n",
    "            ret.append(0)\n",
    "    return np.array(ret)"
   ]
  },
  {
   "cell_type": "code",
   "execution_count": 7,
   "metadata": {},
   "outputs": [
    {
     "data": {
      "text/plain": [
       "[<matplotlib.lines.Line2D at 0x11af6c7c0>]"
      ]
     },
     "execution_count": 7,
     "metadata": {},
     "output_type": "execute_result"
    },
    {
     "data": {
      "image/png": "[encoded data removed]",
      "text/plain": [
       "<Figure size 432x288 with 1 Axes>"
      ]
     },
     "metadata": {
      "needs_background": "light"
     },
     "output_type": "display_data"
    }
   ],
   "source": [
    "x = np.linspace(0,1,100)\n",
    "plt.plot(x, init_bell(0.2, x))"
   ]
  },
  {
   "cell_type": "code",
   "execution_count": 8,
   "metadata": {},
   "outputs": [],
   "source": [
    "def init_jump(d0, x): #To make a piecewise-constant function with a discontinuity in d0 (1 before, 0 after)\n",
    "    u = np.zeros_like(x, dtype=float)\n",
    "    for i in range(u.shape[0]):\n",
    "       if (x[i]<d0):\n",
    "           u[i] = 1\n",
    "    return u"
   ]
  },
  {
   "cell_type": "code",
   "execution_count": 9,
   "metadata": {},
   "outputs": [],
   "source": [
    "def exact(init, params, x, tf):\n",
    "    tf = np.ones_like(x)*tf\n",
    "    x0 = x-tf\n",
    "    u0 = init(params, x0)\n",
    "\n",
    "    return u0"
   ]
  },
  {
   "cell_type": "code",
   "execution_count": 10,
   "metadata": {},
   "outputs": [
    {
     "data": {
      "text/plain": [
       "[<matplotlib.lines.Line2D at 0x11b075d00>]"
      ]
     },
     "execution_count": 10,
     "metadata": {},
     "output_type": "execute_result"
    },
    {
     "data": {
      "image/png": "[encoded data removed]",
      "text/plain": [
       "<Figure size 432x288 with 1 Axes>"
      ]
     },
     "metadata": {
      "needs_background": "light"
     },
     "output_type": "display_data"
    }
   ],
   "source": [
    "a, b = 0, 1 #Domain in [0,1]\n",
    "Nx = 500\n",
    "\n",
    "dx = (b-a)/Nx\n",
    "x = grid_dirichlet1D(a, b, Nx)\n",
    "u0 = init_jump(0.4, x)\n",
    "ue = exact(init_jump, 0.4, x, 0.5)\n",
    "\n",
    "plt.plot(x, u0)\n",
    "plt.plot(x, ue) #Exact solution"
   ]
  },
  {
   "cell_type": "code",
   "execution_count": 32,
   "metadata": {},
   "outputs": [],
   "source": [
    "#Here is a function to compute a step of a simple scheme like upwind, downwind, centered,...\n",
    "def matmul_step_periodical(u_n, Beta, A):\n",
    "    ret = u_n\n",
    "    ret[0] = u_n[0] - Beta*(u_n[0] - u_n[-1]) #Periodical domain\n",
    "    ret[1:] = - Beta*np.dot(A[1:,1:], u_n[1:])\n",
    "    return ret"
   ]
  },
  {
   "cell_type": "code",
   "execution_count": 33,
   "metadata": {},
   "outputs": [],
   "source": [
    "def T(Nx):  #Matrix for Upwind Scheme\n",
    "    return np.eye(Nx) + np.diag(-1 * np.ones(Nx-1), -1)"
   ]
  },
  {
   "cell_type": "code",
   "execution_count": 34,
   "metadata": {},
   "outputs": [
    {
     "data": {
      "text/plain": [
       "[<matplotlib.lines.Line2D at 0x129576790>]"
      ]
     },
     "execution_count": 34,
     "metadata": {},
     "output_type": "execute_result"
    },
    {
     "data": {
      "image/png": "[encoded data removed]",
      "text/plain": [
       "<Figure size 432x288 with 1 Axes>"
      ]
     },
     "metadata": {
      "needs_background": "light"
     },
     "output_type": "display_data"
    }
   ],
   "source": [
    "#Finite Differences:\n",
    "\n",
    "a, b = 0, 1\n",
    "Nx = 1000\n",
    "dx = (b-a)/Nx\n",
    "dt = 5*dx #CFL condition = 5\n",
    "Beta = dt/dx\n",
    "x = grid_offset(a, b, Nx)\n",
    "u_n = init_bell(0.2, x)\n",
    "t=0\n",
    "A = T(Nx)\n",
    "I = np.eye(Nx)\n",
    "\n",
    "tf = 1\n",
    "while t < tf:\n",
    "    u_n = matmul_step_periodical(u_n, Beta, A)\n",
    "    t += dt\n",
    "\n",
    "plt.plot(x, u_n)"
   ]
  },
  {
   "cell_type": "code",
   "execution_count": null,
   "metadata": {},
   "outputs": [],
   "source": []
  },
  {
   "cell_type": "code",
   "execution_count": null,
   "metadata": {},
   "outputs": [],
   "source": [
    "def h(u_i0, u_i1, dx):\n",
    "    return (u_i1 - u_i0)/dx"
   ]
  },
  {
   "cell_type": "code",
   "execution_count": null,
   "metadata": {},
   "outputs": [],
   "source": [
    "def F(uL, uR, a):\n",
    "    return a * (uL + uR / 2) + np.abs(a) * (uR - uL) / 2"
   ]
  },
  {
   "cell_type": "code",
   "execution_count": null,
   "metadata": {},
   "outputs": [],
   "source": [
    "def f(u, a):\n",
    "    return a*u"
   ]
  },
  {
   "cell_type": "code",
   "execution_count": null,
   "metadata": {},
   "outputs": [],
   "source": [
    "def ThetaScheme(theta, a, u, grid_t, grid_x): #We assume that dt and dx are constants\n",
    "    Nt = grid_t.size\n",
    "    dt = (grid_t[-1]-grid_t[0])/Nt\n",
    "    Nx = grid_x.size\n",
    "    dx = (grid_x[-1]-grid_x[0])/Nx\n",
    "\n",
    "    for i in range(Nx):\n",
    "        #With a periodic domain\n",
    "        #u[i] -= (dt/dx)"
   ]
  },
  {
   "cell_type": "code",
   "execution_count": null,
   "metadata": {},
   "outputs": [],
   "source": []
  }
 ],
 "metadata": {
  "kernelspec": {
   "display_name": "Python 3",
   "language": "python",
   "name": "python3"
  },
  "language_info": {
   "codemirror_mode": {
    "name": "ipython",
    "version": 3
   },
   "file_extension": ".py",
   "mimetype": "text/x-python",
   "name": "python",
   "nbconvert_exporter": "python",
   "pygments_lexer": "ipython3",
   "version": "3.9.18"
  }
 },
 "nbformat": 4,
 "nbformat_minor": 2
}
