{
 "cells": [
  {
   "cell_type": "code",
   "execution_count": 16,
   "metadata": {},
   "outputs": [],
   "source": [
    "import numpy as np\n",
    "import matplotlib.pyplot as plt"
   ]
  },
  {
   "cell_type": "code",
   "execution_count": 17,
   "metadata": {},
   "outputs": [],
   "source": [
    "def grid_dirichlet1D(a, b, Nx):\n",
    "    return np.linspace(a, b, Nx)"
   ]
  },
  {
   "cell_type": "code",
   "execution_count": 74,
   "metadata": {},
   "outputs": [],
   "source": [
    "def grid_offset(a, b, Nx):\n",
    "    dx = 4/Nx\n",
    "    x = []\n",
    "    for j in range(Nx):\n",
    "        x.append((j-0.5)*dx -2)\n",
    "    return np.array(x)"
   ]
  },
  {
   "cell_type": "code",
   "execution_count": 66,
   "metadata": {},
   "outputs": [],
   "source": [
    "def init_bell(d0, x): #To make a kind of bell curve -> continuous ditribution centered in d0\n",
    "    ret = []\n",
    "    for i in range(x.size):\n",
    "        if x[i] > d0-0.2 and x[i] < d0+0.2:\n",
    "            ret.append(np.exp(-2/(1-(np.sin(2*np.pi*(x[i]-d0))**2))))\n",
    "        else:\n",
    "            ret.append(0)\n",
    "    return np.array(ret)"
   ]
  },
  {
   "cell_type": "code",
   "execution_count": 68,
   "metadata": {},
   "outputs": [
    {
     "data": {
      "text/plain": [
       "[<matplotlib.lines.Line2D at 0x11e35d9a0>]"
      ]
     },
     "execution_count": 68,
     "metadata": {},
     "output_type": "execute_result"
    },
    {
     "data": {
      "image/png": "[encoded data removed]",
      "text/plain": [
       "<Figure size 432x288 with 1 Axes>"
      ]
     },
     "metadata": {
      "needs_background": "light"
     },
     "output_type": "display_data"
    }
   ],
   "source": [
    "x = np.linspace(0,1,100)\n",
    "plt.plot(x, init_bell(0.2, x))"
   ]
  },
  {
   "cell_type": "code",
   "execution_count": 72,
   "metadata": {},
   "outputs": [],
   "source": [
    "def init_jump(d0, x): #To make a piecewise-constant function with a discontinuity in d0 (1 before, 0 after)\n",
    "    u = np.zeros_like(x, dtype=float)\n",
    "    for i in range(u.shape[0]):\n",
    "       if (x[i]<d0):\n",
    "           u[i] = 1\n",
    "    return u"
   ]
  },
  {
   "cell_type": "code",
   "execution_count": 19,
   "metadata": {},
   "outputs": [],
   "source": [
    "def exact(init, params, x, tf):\n",
    "    tf = np.ones_like(x)*tf\n",
    "    x0 = x-tf\n",
    "    u0 = init(params, x0)\n",
    "\n",
    "    return u0"
   ]
  },
  {
   "cell_type": "code",
   "execution_count": 20,
   "metadata": {},
   "outputs": [
    {
     "data": {
      "text/plain": [
       "[<matplotlib.lines.Line2D at 0x10f7bec40>]"
      ]
     },
     "execution_count": 20,
     "metadata": {},
     "output_type": "execute_result"
    },
    {
     "data": {
      "image/png": "[encoded data removed]",
      "text/plain": [
       "<Figure size 432x288 with 1 Axes>"
      ]
     },
     "metadata": {
      "needs_background": "light"
     },
     "output_type": "display_data"
    }
   ],
   "source": [
    "a, b = 0, 1 #Domain in [0,1]\n",
    "Nx = 500\n",
    "\n",
    "dx = (b-a)/Nx\n",
    "x = grid_dirichlet1D(a, b, Nx)\n",
    "u0 = init_jump(0.4, x)\n",
    "ue = exact(init_jump, 0.4, x, 0.5)\n",
    "\n",
    "plt.plot(x, u0)\n",
    "plt.plot(x, ue) #Exact solution"
   ]
  },
  {
   "cell_type": "code",
   "execution_count": 21,
   "metadata": {},
   "outputs": [],
   "source": [
    "#Here is a function to compute a step of a simple scheme like upwind, downwind, centered,...\n",
    "def matmul_step(u_n, dt, dx, A):\n",
    "    return (np.eye(u_n.size)-(dt/dx)*A) @ u_n"
   ]
  },
  {
   "cell_type": "code",
   "execution_count": 75,
   "metadata": {},
   "outputs": [],
   "source": [
    "#Finite Differences:\n",
    "\n",
    "a, b = 0, 1\n",
    "Nx = 500\n",
    "dx = (b-a)/Nx\n",
    "dt = 5*dx #CFL condition = 5\n",
    "x = grid_dirichlet1D(a, b, Nx)\n",
    "u_n = init_jump(0.2, x)\n",
    "t=0\n",
    "\n",
    "#..."
   ]
  },
  {
   "cell_type": "code",
   "execution_count": null,
   "metadata": {},
   "outputs": [],
   "source": []
  },
  {
   "cell_type": "code",
   "execution_count": null,
   "metadata": {},
   "outputs": [],
   "source": [
    "def h(u_i0, u_i1, dx):\n",
    "    return (u_i1 - u_i0)/dx"
   ]
  },
  {
   "cell_type": "code",
   "execution_count": null,
   "metadata": {},
   "outputs": [],
   "source": [
    "\"\"\"def ThetaScheme(theta, u0, grid_t, grid_x):\n",
    "    Nt = grid_t.size\n",
    "    dt = (grid_t[-1]-grid_t[0])/Nt\n",
    "    Nx = grid_x.size\n",
    "    dx = (grid_x[-1]-grid_x[0])/Nx\n",
    "\n",
    "    \n",
    "\"\"\""
   ]
  },
  {
   "cell_type": "code",
   "execution_count": null,
   "metadata": {},
   "outputs": [],
   "source": []
  },
  {
   "cell_type": "code",
   "execution_count": 13,
   "metadata": {},
   "outputs": [],
   "source": [
    "def F(uL, uR, a):\n",
    "    return a * (uL + uR / 2) + np.abs(a) * (uR - uL) / 2"
   ]
  },
  {
   "cell_type": "code",
   "execution_count": null,
   "metadata": {},
   "outputs": [],
   "source": []
  }
 ],
 "metadata": {
  "kernelspec": {
   "display_name": "Python 3",
   "language": "python",
   "name": "python3"
  },
  "language_info": {
   "codemirror_mode": {
    "name": "ipython",
    "version": 3
   },
   "file_extension": ".py",
   "mimetype": "text/x-python",
   "name": "python",
   "nbconvert_exporter": "python",
   "pygments_lexer": "ipython3",
   "version": "3.9.18"
  }
 },
 "nbformat": 4,
 "nbformat_minor": 2
}
